{
 "cells": [
  {
   "cell_type": "code",
   "execution_count": null,
   "metadata": {},
   "outputs": [],
   "source": [
    "import pandas as pd\n",
    "import seaborn as sns\n",
    "from matplotlib import pyplot as plt\n",
    "import plotly.express as px\n"
   ]
  },
  {
   "cell_type": "code",
   "execution_count": null,
   "metadata": {},
   "outputs": [],
   "source": [
    "AZUL1, AZUL2, AZUL3, AZUL4, AZUL5 = '#03045e', '#0077b6', \"#00b4d8\", '#90e0ef', '#CDDBF3'\n",
    "CINZA1, CINZA2, CINZA3, CINZA4, CINZA5 = '#212529', '#495057', '#adb5bd', '#dee2e6', '#f8f9fa'\n",
    "VERMELHO1, LARANJA1, AMARELO1, VERDE1, VERDE2 = '#e76f51', '#f4a261',\t'#e9c46a', '#4c956c', '#2a9d8f'"
   ]
  },
  {
   "cell_type": "code",
   "execution_count": null,
   "metadata": {},
   "outputs": [],
   "source": [
    "data = ('Equities_ETFTradeFile_20230612_1.csv')\n",
    "df = pd.read_csv(data, sep=';')\n",
    "\n",
    "display(df)"
   ]
  },
  {
   "cell_type": "code",
   "execution_count": null,
   "metadata": {},
   "outputs": [],
   "source": [
    "df.info()"
   ]
  },
  {
   "cell_type": "code",
   "execution_count": null,
   "metadata": {},
   "outputs": [],
   "source": [
    "#DataFrame - Variação de Cotação Inicial dos ativos \n",
    "\n",
    "df['RptDt'] = pd.to_datetime(df['RptDt'], format='%Y-%m-%d')\n",
    "df['RptDt'] = df['RptDt'].sort_values(ascending=True)\n",
    "\n",
    "\n",
    "df['FrstPric'] = df['FrstPric'].sort_values(ascending=True)\n",
    "df_filtred = df[df['FrstPric'] >= 100.00]\n",
    "#display(df_filtred)\n",
    "\n",
    "df_year_TckrSymb = df_filtred[['RptDt','TckrSymb','FrstPric']]\n",
    "df_year_TckrSymb['year'] = df_filtred.RptDt.dt.year\n",
    "df_year_TckrSymb.drop(columns='RptDt', inplace=True)\n",
    "df_year_TckrSymb.sort_values(by='FrstPric', ascending=True, inplace=True)\n",
    "\n",
    "\n",
    "display(df_year_TckrSymb)"
   ]
  },
  {
   "cell_type": "code",
   "execution_count": null,
   "metadata": {},
   "outputs": [],
   "source": [
    "def gerar_grafico_variacao_cotacao():\n",
    "    \n",
    "    #Area do grafico\n",
    "    fig, axs = plt.subplots(figsize=(16,4))\n",
    "    fig.subplots_adjust(right=0.7)\n",
    "    sns.set_theme(style='white')\n",
    "\n",
    "    #Paleta de cores\n",
    "    paletta = sns.color_palette('Blues', len(df_year_TckrSymb))\n",
    "    \n",
    "    #cores = [AZUL4, AZUL3, AZUL2, AZUL1,VERDE1, VERDE2]\n",
    "\n",
    "    #Gerando o grafico\n",
    "    axs = sns.barplot(data=df_year_TckrSymb, x='TckrSymb', y='FrstPric', palette = paletta, edgecolor= CINZA4)\n",
    "\n",
    "    #Personalizando o gráfico\n",
    "    axs.set_title('Variação da cotação inicial dos ativos em 2023', fontsize=18, color=CINZA2, loc='left', fontweight='bold')\n",
    "    axs.text(0.0, 1, 'Top ETF'+\"'s\" +' acima de 100 reais',color=CINZA2, transform = axs.transAxes, fontsize=14, ha='left', va='top')\n",
    "    axs.set_xlabel('ETF')\n",
    "    axs.set_ylabel('')\n",
    "    axs.set_yticklabels([])\n",
    "    sns.despine(left = True, bottom = True)\n",
    "\n",
    "    # Valores das barras\n",
    "    for i, bar in enumerate(axs.patches):\n",
    "        valor = bar.get_height()\n",
    "        qtd = f'R$ {valor:,.1f}'.replace(',', '.')  \n",
    "        axs.text(bar.get_x() + bar.get_width()/2, bar.get_height(), qtd, \n",
    "                color=CINZA2, fontsize=8, fontweight='bold', ha='center', va='bottom' )\n",
    "\n",
    "    plt.show()\n",
    "    \n",
    "    return axs\n",
    "\n",
    "gerar_grafico_variacao_cotacao()"
   ]
  },
  {
   "cell_type": "code",
   "execution_count": 184,
   "metadata": {},
   "outputs": [
    {
     "data": {
      "text/html": [
       "<div>\n",
       "<style scoped>\n",
       "    .dataframe tbody tr th:only-of-type {\n",
       "        vertical-align: middle;\n",
       "    }\n",
       "\n",
       "    .dataframe tbody tr th {\n",
       "        vertical-align: top;\n",
       "    }\n",
       "\n",
       "    .dataframe thead th {\n",
       "        text-align: right;\n",
       "    }\n",
       "</style>\n",
       "<table border=\"1\" class=\"dataframe\">\n",
       "  <thead>\n",
       "    <tr style=\"text-align: right;\">\n",
       "      <th></th>\n",
       "      <th>RptDt</th>\n",
       "      <th>TckrSymb</th>\n",
       "      <th>SctyId</th>\n",
       "      <th>SctySrc</th>\n",
       "      <th>MktIdrCd</th>\n",
       "      <th>FrstPric</th>\n",
       "      <th>MinPric</th>\n",
       "      <th>MaxPric</th>\n",
       "      <th>LastPric</th>\n",
       "      <th>OscnPctg</th>\n",
       "      <th>IndxVal</th>\n",
       "      <th>TradAvrgPric</th>\n",
       "      <th>PrvsDayClsgPric</th>\n",
       "      <th>DataSts</th>\n",
       "      <th>Return</th>\n",
       "    </tr>\n",
       "  </thead>\n",
       "  <tbody>\n",
       "    <tr>\n",
       "      <th>4</th>\n",
       "      <td>2023-06-12</td>\n",
       "      <td>BCIC</td>\n",
       "      <td>200001070068</td>\n",
       "      <td>8</td>\n",
       "      <td>BVMF</td>\n",
       "      <td>115.73</td>\n",
       "      <td>115.51</td>\n",
       "      <td>116.45</td>\n",
       "      <td>116.18</td>\n",
       "      <td>0.0039</td>\n",
       "      <td>116.18</td>\n",
       "      <td>116.15</td>\n",
       "      <td>115.72</td>\n",
       "      <td>I</td>\n",
       "      <td>0.45</td>\n",
       "    </tr>\n",
       "    <tr>\n",
       "      <th>5</th>\n",
       "      <td>2023-06-12</td>\n",
       "      <td>BDEF</td>\n",
       "      <td>200001070193</td>\n",
       "      <td>8</td>\n",
       "      <td>BVMF</td>\n",
       "      <td>113.62</td>\n",
       "      <td>113.32</td>\n",
       "      <td>114.91</td>\n",
       "      <td>114.56</td>\n",
       "      <td>0.0084</td>\n",
       "      <td>114.56</td>\n",
       "      <td>114.30</td>\n",
       "      <td>113.60</td>\n",
       "      <td>I</td>\n",
       "      <td>0.94</td>\n",
       "    </tr>\n",
       "    <tr>\n",
       "      <th>6</th>\n",
       "      <td>2023-06-12</td>\n",
       "      <td>BDOM</td>\n",
       "      <td>200000952526</td>\n",
       "      <td>8</td>\n",
       "      <td>BVMF</td>\n",
       "      <td>102.19</td>\n",
       "      <td>102.19</td>\n",
       "      <td>103.31</td>\n",
       "      <td>103.06</td>\n",
       "      <td>0.0085</td>\n",
       "      <td>103.06</td>\n",
       "      <td>102.86</td>\n",
       "      <td>102.19</td>\n",
       "      <td>I</td>\n",
       "      <td>0.87</td>\n",
       "    </tr>\n",
       "    <tr>\n",
       "      <th>7</th>\n",
       "      <td>2023-06-12</td>\n",
       "      <td>BMMT</td>\n",
       "      <td>200001070019</td>\n",
       "      <td>8</td>\n",
       "      <td>BVMF</td>\n",
       "      <td>101.19</td>\n",
       "      <td>100.82</td>\n",
       "      <td>101.63</td>\n",
       "      <td>101.50</td>\n",
       "      <td>0.0031</td>\n",
       "      <td>101.50</td>\n",
       "      <td>101.31</td>\n",
       "      <td>101.18</td>\n",
       "      <td>I</td>\n",
       "      <td>0.31</td>\n",
       "    </tr>\n",
       "    <tr>\n",
       "      <th>8</th>\n",
       "      <td>2023-06-12</td>\n",
       "      <td>BOVA</td>\n",
       "      <td>200001030806</td>\n",
       "      <td>8</td>\n",
       "      <td>BVMF</td>\n",
       "      <td>113.28</td>\n",
       "      <td>112.98</td>\n",
       "      <td>113.95</td>\n",
       "      <td>113.58</td>\n",
       "      <td>0.0030</td>\n",
       "      <td>113.58</td>\n",
       "      <td>113.52</td>\n",
       "      <td>113.24</td>\n",
       "      <td>I</td>\n",
       "      <td>0.30</td>\n",
       "    </tr>\n",
       "    <tr>\n",
       "      <th>9</th>\n",
       "      <td>2023-06-12</td>\n",
       "      <td>BOVB</td>\n",
       "      <td>200000295865</td>\n",
       "      <td>8</td>\n",
       "      <td>BVMF</td>\n",
       "      <td>118.15</td>\n",
       "      <td>117.83</td>\n",
       "      <td>118.87</td>\n",
       "      <td>118.47</td>\n",
       "      <td>0.0027</td>\n",
       "      <td>118.47</td>\n",
       "      <td>118.41</td>\n",
       "      <td>118.15</td>\n",
       "      <td>I</td>\n",
       "      <td>0.32</td>\n",
       "    </tr>\n",
       "    <tr>\n",
       "      <th>11</th>\n",
       "      <td>2023-06-12</td>\n",
       "      <td>BOVV</td>\n",
       "      <td>200000892380</td>\n",
       "      <td>8</td>\n",
       "      <td>BVMF</td>\n",
       "      <td>118.62</td>\n",
       "      <td>118.30</td>\n",
       "      <td>119.33</td>\n",
       "      <td>118.93</td>\n",
       "      <td>0.0028</td>\n",
       "      <td>118.93</td>\n",
       "      <td>118.87</td>\n",
       "      <td>118.59</td>\n",
       "      <td>I</td>\n",
       "      <td>0.31</td>\n",
       "    </tr>\n",
       "    <tr>\n",
       "      <th>14</th>\n",
       "      <td>2023-06-12</td>\n",
       "      <td>BREW</td>\n",
       "      <td>200001070230</td>\n",
       "      <td>8</td>\n",
       "      <td>BVMF</td>\n",
       "      <td>114.79</td>\n",
       "      <td>114.64</td>\n",
       "      <td>115.65</td>\n",
       "      <td>115.41</td>\n",
       "      <td>0.0054</td>\n",
       "      <td>115.41</td>\n",
       "      <td>115.30</td>\n",
       "      <td>114.78</td>\n",
       "      <td>I</td>\n",
       "      <td>0.62</td>\n",
       "    </tr>\n",
       "    <tr>\n",
       "      <th>15</th>\n",
       "      <td>2023-06-12</td>\n",
       "      <td>BXPO</td>\n",
       "      <td>200000950776</td>\n",
       "      <td>8</td>\n",
       "      <td>BVMF</td>\n",
       "      <td>104.72</td>\n",
       "      <td>104.11</td>\n",
       "      <td>105.01</td>\n",
       "      <td>104.79</td>\n",
       "      <td>0.0008</td>\n",
       "      <td>104.79</td>\n",
       "      <td>104.64</td>\n",
       "      <td>104.70</td>\n",
       "      <td>I</td>\n",
       "      <td>0.07</td>\n",
       "    </tr>\n",
       "    <tr>\n",
       "      <th>18</th>\n",
       "      <td>2023-06-12</td>\n",
       "      <td>ECOO</td>\n",
       "      <td>10016355</td>\n",
       "      <td>8</td>\n",
       "      <td>BVMF</td>\n",
       "      <td>101.39</td>\n",
       "      <td>101.39</td>\n",
       "      <td>102.35</td>\n",
       "      <td>102.06</td>\n",
       "      <td>0.0066</td>\n",
       "      <td>102.06</td>\n",
       "      <td>101.98</td>\n",
       "      <td>101.39</td>\n",
       "      <td>I</td>\n",
       "      <td>0.67</td>\n",
       "    </tr>\n",
       "    <tr>\n",
       "      <th>19</th>\n",
       "      <td>2023-06-12</td>\n",
       "      <td>ELAS</td>\n",
       "      <td>200000809536</td>\n",
       "      <td>8</td>\n",
       "      <td>BVMF</td>\n",
       "      <td>117.76</td>\n",
       "      <td>117.76</td>\n",
       "      <td>118.85</td>\n",
       "      <td>118.60</td>\n",
       "      <td>0.0072</td>\n",
       "      <td>118.60</td>\n",
       "      <td>118.44</td>\n",
       "      <td>117.75</td>\n",
       "      <td>I</td>\n",
       "      <td>0.84</td>\n",
       "    </tr>\n",
       "    <tr>\n",
       "      <th>20</th>\n",
       "      <td>2023-06-12</td>\n",
       "      <td>ESGB</td>\n",
       "      <td>200000479570</td>\n",
       "      <td>8</td>\n",
       "      <td>BVMF</td>\n",
       "      <td>105.00</td>\n",
       "      <td>104.92</td>\n",
       "      <td>105.91</td>\n",
       "      <td>105.67</td>\n",
       "      <td>0.0064</td>\n",
       "      <td>105.67</td>\n",
       "      <td>105.56</td>\n",
       "      <td>104.99</td>\n",
       "      <td>I</td>\n",
       "      <td>0.67</td>\n",
       "    </tr>\n",
       "    <tr>\n",
       "      <th>21</th>\n",
       "      <td>2023-06-12</td>\n",
       "      <td>FIND</td>\n",
       "      <td>10016351</td>\n",
       "      <td>8</td>\n",
       "      <td>BVMF</td>\n",
       "      <td>115.40</td>\n",
       "      <td>115.40</td>\n",
       "      <td>116.73</td>\n",
       "      <td>115.84</td>\n",
       "      <td>0.0038</td>\n",
       "      <td>115.84</td>\n",
       "      <td>116.05</td>\n",
       "      <td>115.39</td>\n",
       "      <td>I</td>\n",
       "      <td>0.44</td>\n",
       "    </tr>\n",
       "    <tr>\n",
       "      <th>30</th>\n",
       "      <td>2023-06-12</td>\n",
       "      <td>PIBB</td>\n",
       "      <td>10029577</td>\n",
       "      <td>8</td>\n",
       "      <td>BVMF</td>\n",
       "      <td>201.34</td>\n",
       "      <td>200.64</td>\n",
       "      <td>202.47</td>\n",
       "      <td>201.85</td>\n",
       "      <td>0.0027</td>\n",
       "      <td>201.85</td>\n",
       "      <td>201.69</td>\n",
       "      <td>201.29</td>\n",
       "      <td>I</td>\n",
       "      <td>0.51</td>\n",
       "    </tr>\n",
       "    <tr>\n",
       "      <th>34</th>\n",
       "      <td>2023-06-12</td>\n",
       "      <td>SMAL</td>\n",
       "      <td>10016383</td>\n",
       "      <td>8</td>\n",
       "      <td>BVMF</td>\n",
       "      <td>107.81</td>\n",
       "      <td>107.27</td>\n",
       "      <td>108.12</td>\n",
       "      <td>107.91</td>\n",
       "      <td>0.0011</td>\n",
       "      <td>107.91</td>\n",
       "      <td>107.79</td>\n",
       "      <td>107.79</td>\n",
       "      <td>I</td>\n",
       "      <td>0.10</td>\n",
       "    </tr>\n",
       "    <tr>\n",
       "      <th>37</th>\n",
       "      <td>2023-06-12</td>\n",
       "      <td>XBOV</td>\n",
       "      <td>10016393</td>\n",
       "      <td>8</td>\n",
       "      <td>BVMF</td>\n",
       "      <td>114.74</td>\n",
       "      <td>114.44</td>\n",
       "      <td>115.43</td>\n",
       "      <td>115.05</td>\n",
       "      <td>0.0027</td>\n",
       "      <td>115.05</td>\n",
       "      <td>114.99</td>\n",
       "      <td>114.74</td>\n",
       "      <td>I</td>\n",
       "      <td>0.31</td>\n",
       "    </tr>\n",
       "  </tbody>\n",
       "</table>\n",
       "</div>"
      ],
      "text/plain": [
       "        RptDt TckrSymb        SctyId  SctySrc MktIdrCd  FrstPric  MinPric  \\\n",
       "4  2023-06-12     BCIC  200001070068        8     BVMF    115.73   115.51   \n",
       "5  2023-06-12     BDEF  200001070193        8     BVMF    113.62   113.32   \n",
       "6  2023-06-12     BDOM  200000952526        8     BVMF    102.19   102.19   \n",
       "7  2023-06-12     BMMT  200001070019        8     BVMF    101.19   100.82   \n",
       "8  2023-06-12     BOVA  200001030806        8     BVMF    113.28   112.98   \n",
       "9  2023-06-12     BOVB  200000295865        8     BVMF    118.15   117.83   \n",
       "11 2023-06-12     BOVV  200000892380        8     BVMF    118.62   118.30   \n",
       "14 2023-06-12     BREW  200001070230        8     BVMF    114.79   114.64   \n",
       "15 2023-06-12     BXPO  200000950776        8     BVMF    104.72   104.11   \n",
       "18 2023-06-12     ECOO      10016355        8     BVMF    101.39   101.39   \n",
       "19 2023-06-12     ELAS  200000809536        8     BVMF    117.76   117.76   \n",
       "20 2023-06-12     ESGB  200000479570        8     BVMF    105.00   104.92   \n",
       "21 2023-06-12     FIND      10016351        8     BVMF    115.40   115.40   \n",
       "30 2023-06-12     PIBB      10029577        8     BVMF    201.34   200.64   \n",
       "34 2023-06-12     SMAL      10016383        8     BVMF    107.81   107.27   \n",
       "37 2023-06-12     XBOV      10016393        8     BVMF    114.74   114.44   \n",
       "\n",
       "    MaxPric  LastPric  OscnPctg  IndxVal  TradAvrgPric  PrvsDayClsgPric  \\\n",
       "4    116.45    116.18    0.0039   116.18        116.15           115.72   \n",
       "5    114.91    114.56    0.0084   114.56        114.30           113.60   \n",
       "6    103.31    103.06    0.0085   103.06        102.86           102.19   \n",
       "7    101.63    101.50    0.0031   101.50        101.31           101.18   \n",
       "8    113.95    113.58    0.0030   113.58        113.52           113.24   \n",
       "9    118.87    118.47    0.0027   118.47        118.41           118.15   \n",
       "11   119.33    118.93    0.0028   118.93        118.87           118.59   \n",
       "14   115.65    115.41    0.0054   115.41        115.30           114.78   \n",
       "15   105.01    104.79    0.0008   104.79        104.64           104.70   \n",
       "18   102.35    102.06    0.0066   102.06        101.98           101.39   \n",
       "19   118.85    118.60    0.0072   118.60        118.44           117.75   \n",
       "20   105.91    105.67    0.0064   105.67        105.56           104.99   \n",
       "21   116.73    115.84    0.0038   115.84        116.05           115.39   \n",
       "30   202.47    201.85    0.0027   201.85        201.69           201.29   \n",
       "34   108.12    107.91    0.0011   107.91        107.79           107.79   \n",
       "37   115.43    115.05    0.0027   115.05        114.99           114.74   \n",
       "\n",
       "   DataSts  Return  \n",
       "4        I    0.45  \n",
       "5        I    0.94  \n",
       "6        I    0.87  \n",
       "7        I    0.31  \n",
       "8        I    0.30  \n",
       "9        I    0.32  \n",
       "11       I    0.31  \n",
       "14       I    0.62  \n",
       "15       I    0.07  \n",
       "18       I    0.67  \n",
       "19       I    0.84  \n",
       "20       I    0.67  \n",
       "21       I    0.44  \n",
       "30       I    0.51  \n",
       "34       I    0.10  \n",
       "37       I    0.31  "
      ]
     },
     "metadata": {},
     "output_type": "display_data"
    },
    {
     "data": {
      "text/html": [
       "<div>\n",
       "<style scoped>\n",
       "    .dataframe tbody tr th:only-of-type {\n",
       "        vertical-align: middle;\n",
       "    }\n",
       "\n",
       "    .dataframe tbody tr th {\n",
       "        vertical-align: top;\n",
       "    }\n",
       "\n",
       "    .dataframe thead th {\n",
       "        text-align: right;\n",
       "    }\n",
       "</style>\n",
       "<table border=\"1\" class=\"dataframe\">\n",
       "  <thead>\n",
       "    <tr style=\"text-align: right;\">\n",
       "      <th></th>\n",
       "      <th>Return</th>\n",
       "      <th>TckrSymb</th>\n",
       "      <th>LastPric</th>\n",
       "      <th>FrstPric</th>\n",
       "    </tr>\n",
       "  </thead>\n",
       "  <tbody>\n",
       "    <tr>\n",
       "      <th>4</th>\n",
       "      <td>0.45</td>\n",
       "      <td>BCIC</td>\n",
       "      <td>116.18</td>\n",
       "      <td>115.73</td>\n",
       "    </tr>\n",
       "    <tr>\n",
       "      <th>5</th>\n",
       "      <td>0.94</td>\n",
       "      <td>BDEF</td>\n",
       "      <td>114.56</td>\n",
       "      <td>113.62</td>\n",
       "    </tr>\n",
       "    <tr>\n",
       "      <th>6</th>\n",
       "      <td>0.87</td>\n",
       "      <td>BDOM</td>\n",
       "      <td>103.06</td>\n",
       "      <td>102.19</td>\n",
       "    </tr>\n",
       "    <tr>\n",
       "      <th>7</th>\n",
       "      <td>0.31</td>\n",
       "      <td>BMMT</td>\n",
       "      <td>101.50</td>\n",
       "      <td>101.19</td>\n",
       "    </tr>\n",
       "    <tr>\n",
       "      <th>8</th>\n",
       "      <td>0.30</td>\n",
       "      <td>BOVA</td>\n",
       "      <td>113.58</td>\n",
       "      <td>113.28</td>\n",
       "    </tr>\n",
       "    <tr>\n",
       "      <th>9</th>\n",
       "      <td>0.32</td>\n",
       "      <td>BOVB</td>\n",
       "      <td>118.47</td>\n",
       "      <td>118.15</td>\n",
       "    </tr>\n",
       "    <tr>\n",
       "      <th>11</th>\n",
       "      <td>0.31</td>\n",
       "      <td>BOVV</td>\n",
       "      <td>118.93</td>\n",
       "      <td>118.62</td>\n",
       "    </tr>\n",
       "    <tr>\n",
       "      <th>14</th>\n",
       "      <td>0.62</td>\n",
       "      <td>BREW</td>\n",
       "      <td>115.41</td>\n",
       "      <td>114.79</td>\n",
       "    </tr>\n",
       "    <tr>\n",
       "      <th>15</th>\n",
       "      <td>0.07</td>\n",
       "      <td>BXPO</td>\n",
       "      <td>104.79</td>\n",
       "      <td>104.72</td>\n",
       "    </tr>\n",
       "    <tr>\n",
       "      <th>18</th>\n",
       "      <td>0.67</td>\n",
       "      <td>ECOO</td>\n",
       "      <td>102.06</td>\n",
       "      <td>101.39</td>\n",
       "    </tr>\n",
       "    <tr>\n",
       "      <th>19</th>\n",
       "      <td>0.84</td>\n",
       "      <td>ELAS</td>\n",
       "      <td>118.60</td>\n",
       "      <td>117.76</td>\n",
       "    </tr>\n",
       "    <tr>\n",
       "      <th>20</th>\n",
       "      <td>0.67</td>\n",
       "      <td>ESGB</td>\n",
       "      <td>105.67</td>\n",
       "      <td>105.00</td>\n",
       "    </tr>\n",
       "    <tr>\n",
       "      <th>21</th>\n",
       "      <td>0.44</td>\n",
       "      <td>FIND</td>\n",
       "      <td>115.84</td>\n",
       "      <td>115.40</td>\n",
       "    </tr>\n",
       "    <tr>\n",
       "      <th>30</th>\n",
       "      <td>0.51</td>\n",
       "      <td>PIBB</td>\n",
       "      <td>201.85</td>\n",
       "      <td>201.34</td>\n",
       "    </tr>\n",
       "    <tr>\n",
       "      <th>34</th>\n",
       "      <td>0.10</td>\n",
       "      <td>SMAL</td>\n",
       "      <td>107.91</td>\n",
       "      <td>107.81</td>\n",
       "    </tr>\n",
       "    <tr>\n",
       "      <th>37</th>\n",
       "      <td>0.31</td>\n",
       "      <td>XBOV</td>\n",
       "      <td>115.05</td>\n",
       "      <td>114.74</td>\n",
       "    </tr>\n",
       "  </tbody>\n",
       "</table>\n",
       "</div>"
      ],
      "text/plain": [
       "    Return TckrSymb  LastPric  FrstPric\n",
       "4     0.45     BCIC    116.18    115.73\n",
       "5     0.94     BDEF    114.56    113.62\n",
       "6     0.87     BDOM    103.06    102.19\n",
       "7     0.31     BMMT    101.50    101.19\n",
       "8     0.30     BOVA    113.58    113.28\n",
       "9     0.32     BOVB    118.47    118.15\n",
       "11    0.31     BOVV    118.93    118.62\n",
       "14    0.62     BREW    115.41    114.79\n",
       "15    0.07     BXPO    104.79    104.72\n",
       "18    0.67     ECOO    102.06    101.39\n",
       "19    0.84     ELAS    118.60    117.76\n",
       "20    0.67     ESGB    105.67    105.00\n",
       "21    0.44     FIND    115.84    115.40\n",
       "30    0.51     PIBB    201.85    201.34\n",
       "34    0.10     SMAL    107.91    107.81\n",
       "37    0.31     XBOV    115.05    114.74"
      ]
     },
     "metadata": {},
     "output_type": "display_data"
    }
   ],
   "source": [
    "#DataFrame - Volatilidade do mercado em 2023\n",
    "\n",
    "df_filtred['Return'] = df_filtred.groupby('TckrSymb')['LastPric'].transform('last') - df_filtred.groupby('TckrSymb')['FrstPric'].transform('first')\n",
    "display(df_filtred)\n",
    "\n",
    "df_variation = df_filtred[['Return', 'TckrSymb', 'LastPric', 'FrstPric']]\n",
    "display(df_variation)\n"
   ]
  },
  {
   "cell_type": "code",
   "execution_count": 202,
   "metadata": {},
   "outputs": [
    {
     "data": {
      "application/vnd.plotly.v1+json": {
       "config": {
        "plotlyServerURL": "https://plot.ly"
       },
       "data": [
        {
         "hovertemplate": "<b>ATIVO:<b> %{x} <b>|<b>  <b>VARIAÇÃO:<b> %{y}",
         "legendgroup": "",
         "line": {
          "color": "#0077b6",
          "dash": "solid"
         },
         "marker": {
          "symbol": "circle"
         },
         "mode": "markers+lines",
         "name": "",
         "orientation": "v",
         "showlegend": false,
         "type": "scatter",
         "x": [
          "BCIC",
          "BDEF",
          "BDOM",
          "BMMT",
          "BOVA",
          "BOVB",
          "BOVV",
          "BREW",
          "BXPO",
          "ECOO",
          "ELAS",
          "ESGB",
          "FIND",
          "PIBB",
          "SMAL",
          "XBOV"
         ],
         "xaxis": "x",
         "y": [
          0.45000000000000284,
          0.9399999999999977,
          0.8700000000000045,
          0.3100000000000023,
          0.29999999999999716,
          0.3199999999999932,
          0.3100000000000023,
          0.6199999999999903,
          0.07000000000000739,
          0.6700000000000017,
          0.8399999999999892,
          0.6700000000000017,
          0.4399999999999977,
          0.5099999999999909,
          0.09999999999999432,
          0.3100000000000023
         ],
         "yaxis": "y"
        }
       ],
       "layout": {
        "font": {
         "color": "#495057",
         "family": "DejaVu Sans",
         "size": 15
        },
        "height": 600,
        "hovermode": "x unified",
        "legend": {
         "tracegroupgap": 0
        },
        "margin": {
         "t": 60
        },
        "plot_bgcolor": "#f8f9fa",
        "template": {
         "data": {
          "bar": [
           {
            "error_x": {
             "color": "#2a3f5f"
            },
            "error_y": {
             "color": "#2a3f5f"
            },
            "marker": {
             "line": {
              "color": "#E5ECF6",
              "width": 0.5
             },
             "pattern": {
              "fillmode": "overlay",
              "size": 10,
              "solidity": 0.2
             }
            },
            "type": "bar"
           }
          ],
          "barpolar": [
           {
            "marker": {
             "line": {
              "color": "#E5ECF6",
              "width": 0.5
             },
             "pattern": {
              "fillmode": "overlay",
              "size": 10,
              "solidity": 0.2
             }
            },
            "type": "barpolar"
           }
          ],
          "carpet": [
           {
            "aaxis": {
             "endlinecolor": "#2a3f5f",
             "gridcolor": "white",
             "linecolor": "white",
             "minorgridcolor": "white",
             "startlinecolor": "#2a3f5f"
            },
            "baxis": {
             "endlinecolor": "#2a3f5f",
             "gridcolor": "white",
             "linecolor": "white",
             "minorgridcolor": "white",
             "startlinecolor": "#2a3f5f"
            },
            "type": "carpet"
           }
          ],
          "choropleth": [
           {
            "colorbar": {
             "outlinewidth": 0,
             "ticks": ""
            },
            "type": "choropleth"
           }
          ],
          "contour": [
           {
            "colorbar": {
             "outlinewidth": 0,
             "ticks": ""
            },
            "colorscale": [
             [
              0,
              "#0d0887"
             ],
             [
              0.1111111111111111,
              "#46039f"
             ],
             [
              0.2222222222222222,
              "#7201a8"
             ],
             [
              0.3333333333333333,
              "#9c179e"
             ],
             [
              0.4444444444444444,
              "#bd3786"
             ],
             [
              0.5555555555555556,
              "#d8576b"
             ],
             [
              0.6666666666666666,
              "#ed7953"
             ],
             [
              0.7777777777777778,
              "#fb9f3a"
             ],
             [
              0.8888888888888888,
              "#fdca26"
             ],
             [
              1,
              "#f0f921"
             ]
            ],
            "type": "contour"
           }
          ],
          "contourcarpet": [
           {
            "colorbar": {
             "outlinewidth": 0,
             "ticks": ""
            },
            "type": "contourcarpet"
           }
          ],
          "heatmap": [
           {
            "colorbar": {
             "outlinewidth": 0,
             "ticks": ""
            },
            "colorscale": [
             [
              0,
              "#0d0887"
             ],
             [
              0.1111111111111111,
              "#46039f"
             ],
             [
              0.2222222222222222,
              "#7201a8"
             ],
             [
              0.3333333333333333,
              "#9c179e"
             ],
             [
              0.4444444444444444,
              "#bd3786"
             ],
             [
              0.5555555555555556,
              "#d8576b"
             ],
             [
              0.6666666666666666,
              "#ed7953"
             ],
             [
              0.7777777777777778,
              "#fb9f3a"
             ],
             [
              0.8888888888888888,
              "#fdca26"
             ],
             [
              1,
              "#f0f921"
             ]
            ],
            "type": "heatmap"
           }
          ],
          "heatmapgl": [
           {
            "colorbar": {
             "outlinewidth": 0,
             "ticks": ""
            },
            "colorscale": [
             [
              0,
              "#0d0887"
             ],
             [
              0.1111111111111111,
              "#46039f"
             ],
             [
              0.2222222222222222,
              "#7201a8"
             ],
             [
              0.3333333333333333,
              "#9c179e"
             ],
             [
              0.4444444444444444,
              "#bd3786"
             ],
             [
              0.5555555555555556,
              "#d8576b"
             ],
             [
              0.6666666666666666,
              "#ed7953"
             ],
             [
              0.7777777777777778,
              "#fb9f3a"
             ],
             [
              0.8888888888888888,
              "#fdca26"
             ],
             [
              1,
              "#f0f921"
             ]
            ],
            "type": "heatmapgl"
           }
          ],
          "histogram": [
           {
            "marker": {
             "pattern": {
              "fillmode": "overlay",
              "size": 10,
              "solidity": 0.2
             }
            },
            "type": "histogram"
           }
          ],
          "histogram2d": [
           {
            "colorbar": {
             "outlinewidth": 0,
             "ticks": ""
            },
            "colorscale": [
             [
              0,
              "#0d0887"
             ],
             [
              0.1111111111111111,
              "#46039f"
             ],
             [
              0.2222222222222222,
              "#7201a8"
             ],
             [
              0.3333333333333333,
              "#9c179e"
             ],
             [
              0.4444444444444444,
              "#bd3786"
             ],
             [
              0.5555555555555556,
              "#d8576b"
             ],
             [
              0.6666666666666666,
              "#ed7953"
             ],
             [
              0.7777777777777778,
              "#fb9f3a"
             ],
             [
              0.8888888888888888,
              "#fdca26"
             ],
             [
              1,
              "#f0f921"
             ]
            ],
            "type": "histogram2d"
           }
          ],
          "histogram2dcontour": [
           {
            "colorbar": {
             "outlinewidth": 0,
             "ticks": ""
            },
            "colorscale": [
             [
              0,
              "#0d0887"
             ],
             [
              0.1111111111111111,
              "#46039f"
             ],
             [
              0.2222222222222222,
              "#7201a8"
             ],
             [
              0.3333333333333333,
              "#9c179e"
             ],
             [
              0.4444444444444444,
              "#bd3786"
             ],
             [
              0.5555555555555556,
              "#d8576b"
             ],
             [
              0.6666666666666666,
              "#ed7953"
             ],
             [
              0.7777777777777778,
              "#fb9f3a"
             ],
             [
              0.8888888888888888,
              "#fdca26"
             ],
             [
              1,
              "#f0f921"
             ]
            ],
            "type": "histogram2dcontour"
           }
          ],
          "mesh3d": [
           {
            "colorbar": {
             "outlinewidth": 0,
             "ticks": ""
            },
            "type": "mesh3d"
           }
          ],
          "parcoords": [
           {
            "line": {
             "colorbar": {
              "outlinewidth": 0,
              "ticks": ""
             }
            },
            "type": "parcoords"
           }
          ],
          "pie": [
           {
            "automargin": true,
            "type": "pie"
           }
          ],
          "scatter": [
           {
            "fillpattern": {
             "fillmode": "overlay",
             "size": 10,
             "solidity": 0.2
            },
            "type": "scatter"
           }
          ],
          "scatter3d": [
           {
            "line": {
             "colorbar": {
              "outlinewidth": 0,
              "ticks": ""
             }
            },
            "marker": {
             "colorbar": {
              "outlinewidth": 0,
              "ticks": ""
             }
            },
            "type": "scatter3d"
           }
          ],
          "scattercarpet": [
           {
            "marker": {
             "colorbar": {
              "outlinewidth": 0,
              "ticks": ""
             }
            },
            "type": "scattercarpet"
           }
          ],
          "scattergeo": [
           {
            "marker": {
             "colorbar": {
              "outlinewidth": 0,
              "ticks": ""
             }
            },
            "type": "scattergeo"
           }
          ],
          "scattergl": [
           {
            "marker": {
             "colorbar": {
              "outlinewidth": 0,
              "ticks": ""
             }
            },
            "type": "scattergl"
           }
          ],
          "scattermapbox": [
           {
            "marker": {
             "colorbar": {
              "outlinewidth": 0,
              "ticks": ""
             }
            },
            "type": "scattermapbox"
           }
          ],
          "scatterpolar": [
           {
            "marker": {
             "colorbar": {
              "outlinewidth": 0,
              "ticks": ""
             }
            },
            "type": "scatterpolar"
           }
          ],
          "scatterpolargl": [
           {
            "marker": {
             "colorbar": {
              "outlinewidth": 0,
              "ticks": ""
             }
            },
            "type": "scatterpolargl"
           }
          ],
          "scatterternary": [
           {
            "marker": {
             "colorbar": {
              "outlinewidth": 0,
              "ticks": ""
             }
            },
            "type": "scatterternary"
           }
          ],
          "surface": [
           {
            "colorbar": {
             "outlinewidth": 0,
             "ticks": ""
            },
            "colorscale": [
             [
              0,
              "#0d0887"
             ],
             [
              0.1111111111111111,
              "#46039f"
             ],
             [
              0.2222222222222222,
              "#7201a8"
             ],
             [
              0.3333333333333333,
              "#9c179e"
             ],
             [
              0.4444444444444444,
              "#bd3786"
             ],
             [
              0.5555555555555556,
              "#d8576b"
             ],
             [
              0.6666666666666666,
              "#ed7953"
             ],
             [
              0.7777777777777778,
              "#fb9f3a"
             ],
             [
              0.8888888888888888,
              "#fdca26"
             ],
             [
              1,
              "#f0f921"
             ]
            ],
            "type": "surface"
           }
          ],
          "table": [
           {
            "cells": {
             "fill": {
              "color": "#EBF0F8"
             },
             "line": {
              "color": "white"
             }
            },
            "header": {
             "fill": {
              "color": "#C8D4E3"
             },
             "line": {
              "color": "white"
             }
            },
            "type": "table"
           }
          ]
         },
         "layout": {
          "annotationdefaults": {
           "arrowcolor": "#2a3f5f",
           "arrowhead": 0,
           "arrowwidth": 1
          },
          "autotypenumbers": "strict",
          "coloraxis": {
           "colorbar": {
            "outlinewidth": 0,
            "ticks": ""
           }
          },
          "colorscale": {
           "diverging": [
            [
             0,
             "#8e0152"
            ],
            [
             0.1,
             "#c51b7d"
            ],
            [
             0.2,
             "#de77ae"
            ],
            [
             0.3,
             "#f1b6da"
            ],
            [
             0.4,
             "#fde0ef"
            ],
            [
             0.5,
             "#f7f7f7"
            ],
            [
             0.6,
             "#e6f5d0"
            ],
            [
             0.7,
             "#b8e186"
            ],
            [
             0.8,
             "#7fbc41"
            ],
            [
             0.9,
             "#4d9221"
            ],
            [
             1,
             "#276419"
            ]
           ],
           "sequential": [
            [
             0,
             "#0d0887"
            ],
            [
             0.1111111111111111,
             "#46039f"
            ],
            [
             0.2222222222222222,
             "#7201a8"
            ],
            [
             0.3333333333333333,
             "#9c179e"
            ],
            [
             0.4444444444444444,
             "#bd3786"
            ],
            [
             0.5555555555555556,
             "#d8576b"
            ],
            [
             0.6666666666666666,
             "#ed7953"
            ],
            [
             0.7777777777777778,
             "#fb9f3a"
            ],
            [
             0.8888888888888888,
             "#fdca26"
            ],
            [
             1,
             "#f0f921"
            ]
           ],
           "sequentialminus": [
            [
             0,
             "#0d0887"
            ],
            [
             0.1111111111111111,
             "#46039f"
            ],
            [
             0.2222222222222222,
             "#7201a8"
            ],
            [
             0.3333333333333333,
             "#9c179e"
            ],
            [
             0.4444444444444444,
             "#bd3786"
            ],
            [
             0.5555555555555556,
             "#d8576b"
            ],
            [
             0.6666666666666666,
             "#ed7953"
            ],
            [
             0.7777777777777778,
             "#fb9f3a"
            ],
            [
             0.8888888888888888,
             "#fdca26"
            ],
            [
             1,
             "#f0f921"
            ]
           ]
          },
          "colorway": [
           "#636efa",
           "#EF553B",
           "#00cc96",
           "#ab63fa",
           "#FFA15A",
           "#19d3f3",
           "#FF6692",
           "#B6E880",
           "#FF97FF",
           "#FECB52"
          ],
          "font": {
           "color": "#2a3f5f"
          },
          "geo": {
           "bgcolor": "white",
           "lakecolor": "white",
           "landcolor": "#E5ECF6",
           "showlakes": true,
           "showland": true,
           "subunitcolor": "white"
          },
          "hoverlabel": {
           "align": "left"
          },
          "hovermode": "closest",
          "mapbox": {
           "style": "light"
          },
          "paper_bgcolor": "white",
          "plot_bgcolor": "#E5ECF6",
          "polar": {
           "angularaxis": {
            "gridcolor": "white",
            "linecolor": "white",
            "ticks": ""
           },
           "bgcolor": "#E5ECF6",
           "radialaxis": {
            "gridcolor": "white",
            "linecolor": "white",
            "ticks": ""
           }
          },
          "scene": {
           "xaxis": {
            "backgroundcolor": "#E5ECF6",
            "gridcolor": "white",
            "gridwidth": 2,
            "linecolor": "white",
            "showbackground": true,
            "ticks": "",
            "zerolinecolor": "white"
           },
           "yaxis": {
            "backgroundcolor": "#E5ECF6",
            "gridcolor": "white",
            "gridwidth": 2,
            "linecolor": "white",
            "showbackground": true,
            "ticks": "",
            "zerolinecolor": "white"
           },
           "zaxis": {
            "backgroundcolor": "#E5ECF6",
            "gridcolor": "white",
            "gridwidth": 2,
            "linecolor": "white",
            "showbackground": true,
            "ticks": "",
            "zerolinecolor": "white"
           }
          },
          "shapedefaults": {
           "line": {
            "color": "#2a3f5f"
           }
          },
          "ternary": {
           "aaxis": {
            "gridcolor": "white",
            "linecolor": "white",
            "ticks": ""
           },
           "baxis": {
            "gridcolor": "white",
            "linecolor": "white",
            "ticks": ""
           },
           "bgcolor": "#E5ECF6",
           "caxis": {
            "gridcolor": "white",
            "linecolor": "white",
            "ticks": ""
           }
          },
          "title": {
           "x": 0.05
          },
          "xaxis": {
           "automargin": true,
           "gridcolor": "white",
           "linecolor": "white",
           "ticks": "",
           "title": {
            "standoff": 15
           },
           "zerolinecolor": "white",
           "zerolinewidth": 2
          },
          "yaxis": {
           "automargin": true,
           "gridcolor": "white",
           "linecolor": "white",
           "ticks": "",
           "title": {
            "standoff": 15
           },
           "zerolinecolor": "white",
           "zerolinewidth": 2
          }
         }
        },
        "title": {
         "font": {
          "color": "#212529",
          "size": 24
         },
         "text": "Delta dos preços de cada ativo 2023"
        },
        "width": 1200,
        "xaxis": {
         "anchor": "y",
         "domain": [
          0,
          1
         ],
         "tickvals": [
          "BCIC",
          "BDEF",
          "BDOM",
          "BMMT",
          "BOVA",
          "BOVB",
          "BOVV",
          "BREW",
          "BXPO",
          "ECOO",
          "ELAS",
          "ESGB",
          "FIND",
          "PIBB",
          "SMAL",
          "XBOV"
         ],
         "title": {
          "text": ""
         }
        },
        "yaxis": {
         "anchor": "x",
         "domain": [
          0,
          1
         ],
         "tickprefix": "R$ ",
         "ticksuffix": " centavos",
         "title": {
          "text": ""
         }
        }
       }
      }
     },
     "metadata": {},
     "output_type": "display_data"
    }
   ],
   "source": [
    "def gerar_grafico_variacao_preco():\n",
    "    \n",
    "    fig = px.line(\n",
    "        data_frame= df_variation,\n",
    "        x='TckrSymb',\n",
    "        y='Return',\n",
    "        markers=True,\n",
    "        labels={'TckrSymb':'Ativo'},\n",
    "        color_discrete_sequence=[AZUL2, VERMELHO1,AMARELO1,VERDE1, CINZA3]        \n",
    "    )\n",
    "    \n",
    "    fig.update_yaxes(tickprefix=\"R$ \", ticksuffix=\" centavos\")\n",
    "    \n",
    "    fig.update_layout(\n",
    "        width=1200, \n",
    "        height=600, \n",
    "        font_family = 'DejaVu Sans', \n",
    "        font_size=15, \n",
    "        font_color= CINZA2, \n",
    "        title_font_color= CINZA1, \n",
    "        title_font_size=24,\n",
    "        title_text='Delta dos preços de cada ativo 2023',\n",
    "        xaxis_title='', \n",
    "        yaxis_title='', \n",
    "        plot_bgcolor= CINZA5\n",
    "    )\n",
    "    \n",
    "    fig.update_xaxes(tickvals=df_variation.TckrSymb)\n",
    "    fig.update_traces(mode='markers+lines', hovertemplate ='<b>ATIVO:<b> %{x} <b>|<b> <b>VARIAÇÃO:<b> %{y}')\n",
    "    fig.update_layout(hovermode='closest')    \n",
    "    fig.update_layout(hovermode='x')          \n",
    "    fig.update_layout(hovermode='x unified')  \n",
    "\n",
    "    return fig\n",
    "\n",
    "gerar_grafico_variacao_preco()"
   ]
  },
  {
   "cell_type": "code",
   "execution_count": null,
   "metadata": {},
   "outputs": [],
   "source": []
  }
 ],
 "metadata": {
  "kernelspec": {
   "display_name": "Python 3.11.4 64-bit",
   "language": "python",
   "name": "python3"
  },
  "language_info": {
   "codemirror_mode": {
    "name": "ipython",
    "version": 3
   },
   "file_extension": ".py",
   "mimetype": "text/x-python",
   "name": "python",
   "nbconvert_exporter": "python",
   "pygments_lexer": "ipython3",
   "version": "3.12.0"
  },
  "orig_nbformat": 4,
  "vscode": {
   "interpreter": {
    "hash": "aee8b7b246df8f9039afb4144a1f6fd8d2ca17a180786b69acc140d282b71a49"
   }
  }
 },
 "nbformat": 4,
 "nbformat_minor": 2
}
